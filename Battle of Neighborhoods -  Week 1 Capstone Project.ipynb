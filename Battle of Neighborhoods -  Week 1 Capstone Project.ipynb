{
 "cells": [
  {
   "cell_type": "markdown",
   "id": "e273dd6d",
   "metadata": {},
   "source": [
    "# Coursera Capstone Project\n",
    "### By Hardeep Dhaliwal\n",
    "\n",
    "\n",
    "## Best Neighborhood for a NightClub in Amsterdam"
   ]
  },
  {
   "cell_type": "markdown",
   "id": "30e26d76",
   "metadata": {},
   "source": [
    "### Introduction\n",
    "This project aids to find the optimal location for a NightClub in Amsterdam to aid with tourism and generating traffic into Amsterdam as covid-19 restrictions loosen around the world. Through the usage of python, foursquare API, libraries, and data visualization techniques an optimal neighborhood location in Amsterdam will be selected. "
   ]
  },
  {
   "cell_type": "markdown",
   "id": "61a176a6",
   "metadata": {},
   "source": [
    "### Background Discussion\n",
    "As the vaccine rollout accelerates around the world and more countries are opening borders and allowing tourists to visit the nightlife scene will only grow and have the potential to generate large amounts of revenue for businesses looking to take advantage. In choosing the city for this new NightClub, Amsterdam was selected based on its history of being one of the greatest cities in the world to party in. According to [Thrillophilia]( https://www.thrillophilia.com/blog/greatest-cities-in-the-world-to-party/) Amsterdam is ranked 3rd in the world for cities to party in, making it an excellent city to host this new NightClub. In addition to reputation, looking at the data of inbound tourists in the netherlands, according to [statista]( https://www.statista.com/statistics/658819/inbound-tourism-forecast-in-the-netherlands/) the amount of tourists coming into the Netherlands from 2014 to 2019 was steadily increasing and peaked at **20.1 million** in 2019. The value dropped with the restrictions caused from the covid-19 pandemic to 7 million, however, as vaccines get distributed and restrictions are lifted, this value will rebound and create demand for tourist attractions like a NightClub.\n",
    "\n",
    "Now, with the problem and background defined, the data and parameters that are going to be used for picking the neighborhood to host this nightclub must be defined as well.\n",
    "\n",
    "According to [superevent]( https://superevent.com/blog/13-important-things-to-consider-when-choosing-your-event-venue/) important factors to consider when choosing an event venue include, parking and accessiblity. Therefore, the location must have large enough parking spots within a given radius and be easily accessbile by as many modes of transportation, including public transport like buses, metro/subway stations, train stations, etc. "
   ]
  },
  {
   "cell_type": "markdown",
   "id": "9b81727f",
   "metadata": {},
   "source": [
    "### Description of the Data\n",
    "First and foremost, to select the optimal neighborhood that would host this new NightClub, data about the different neighborhoods in Amsterdam is required. To achieve this, the website [ClairCity]( https://claircitydata.cbs.nl/dataset/districts-and-neighbourhoods-amsterdam) provides a dataset on the districts and neighborhoods in Amsterdam. Next, the parking lots location in Amsterdam can be found via the [FourSquare API]( https://developer.foursquare.com/docs/build-with-foursquare/categories/). The final dataset we need can also be found via the FourSquare API and it includes the public transportation list, which includes Bus, Metro, Light Rail, and Train stations and their respective geolocations.\n",
    "With these datasets the locations of all neighborhoods and be established and clustering techniques can be used to find the optimal location which has many parking spots and is accessbile by a variety of public transportation options. "
   ]
  }
 ],
 "metadata": {
  "kernelspec": {
   "display_name": "Python 3",
   "language": "python",
   "name": "python3"
  },
  "language_info": {
   "codemirror_mode": {
    "name": "ipython",
    "version": 3
   },
   "file_extension": ".py",
   "mimetype": "text/x-python",
   "name": "python",
   "nbconvert_exporter": "python",
   "pygments_lexer": "ipython3",
   "version": "3.8.5"
  }
 },
 "nbformat": 4,
 "nbformat_minor": 5
}
